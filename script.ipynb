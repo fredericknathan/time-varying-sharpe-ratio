{
  "nbformat": 4,
  "nbformat_minor": 0,
  "metadata": {
    "colab": {
      "provenance": []
    },
    "kernelspec": {
      "name": "python3",
      "display_name": "Python 3"
    },
    "language_info": {
      "name": "python"
    }
  },
  "cells": [
    {
      "cell_type": "markdown",
      "source": [
        "## Here is a simple python tutorial I have provided to showcase the use of GARCH model for time-varying sharpe ratio calculation"
      ],
      "metadata": {
        "id": "8WH6gSu1Xvah"
      }
    },
    {
      "cell_type": "code",
      "execution_count": 4,
      "metadata": {
        "id": "GHVGWY_gXh6r"
      },
      "outputs": [],
      "source": [
        "import numpy as np\n",
        "from arch import arch_model\n",
        "import yfinance as yf"
      ]
    },
    {
      "cell_type": "code",
      "source": [
        "# Constants\n",
        "START_DATE = '2010-01-01'\n",
        "END_DATE = '2025-01-01'\n",
        "INTERVAL = '3mo'\n",
        "TICKER = 'MA'\n",
        "ANNUAL_US_TREASURY_BILL_RATE = 0.05\n",
        "P = 10\n",
        "Q = 10"
      ],
      "metadata": {
        "id": "4MMm7UlVX24_"
      },
      "execution_count": 5,
      "outputs": []
    },
    {
      "cell_type": "code",
      "source": [
        "data = yf.download(TICKER, start=START_DATE, end=END_DATE, interval=INTERVAL)\n",
        "data = data['Close'].pct_change()\n",
        "data = data.dropna()\n",
        "data = list(data[TICKER])"
      ],
      "metadata": {
        "colab": {
          "base_uri": "https://localhost:8080/"
        },
        "id": "5uY7KVU4X7Gz",
        "outputId": "37c3011c-38bb-4918-9c37-e493bf3445db"
      },
      "execution_count": 21,
      "outputs": [
        {
          "output_type": "stream",
          "name": "stderr",
          "text": [
            "\r[*********************100%***********************]  1 of 1 completed\n"
          ]
        }
      ]
    },
    {
      "cell_type": "code",
      "source": [
        "data[:5]"
      ],
      "metadata": {
        "colab": {
          "base_uri": "https://localhost:8080/"
        },
        "id": "pv_RuKUKaIsi",
        "outputId": "e9132b9d-b3b9-49ca-f975-fe443e5a7e7a"
      },
      "execution_count": 35,
      "outputs": [
        {
          "output_type": "execute_result",
          "data": {
            "text/plain": [
              "[-0.21398817297087025,\n",
              " 0.12328921450976171,\n",
              " 0.0012439592181781034,\n",
              " 0.12395309605411531,\n",
              " 0.19790441983425033]"
            ]
          },
          "metadata": {},
          "execution_count": 35
        }
      ]
    },
    {
      "cell_type": "code",
      "source": [
        "model = arch_model(data, vol='Garch', p=P, q=Q)\n",
        "results = model.fit()"
      ],
      "metadata": {
        "colab": {
          "base_uri": "https://localhost:8080/"
        },
        "id": "EGpdr4P3YHp0",
        "outputId": "fdb8fca7-d677-4c59-f377-a83a6b12f879"
      },
      "execution_count": 22,
      "outputs": [
        {
          "output_type": "stream",
          "name": "stderr",
          "text": [
            "/usr/local/lib/python3.11/dist-packages/arch/univariate/base.py:309: DataScaleWarning: y is poorly scaled, which may affect convergence of the optimizer when\n",
            "estimating the model parameters. The scale of y is 0.01056. Parameter\n",
            "estimation work better when this value is between 1 and 1000. The recommended\n",
            "rescaling is 10 * y.\n",
            "\n",
            "This warning can be disabled by either rescaling y before initializing the\n",
            "model or by setting rescale=False.\n",
            "\n",
            "  warnings.warn(\n"
          ]
        },
        {
          "output_type": "stream",
          "name": "stdout",
          "text": [
            "Iteration:      1,   Func. Count:     24,   Neg. LLF: 49.02888904408984\n",
            "Iteration:      2,   Func. Count:     49,   Neg. LLF: 2814.612548838516\n",
            "Iteration:      3,   Func. Count:     73,   Neg. LLF: -35.72278416379367\n",
            "Iteration:      4,   Func. Count:     97,   Neg. LLF: -38.9431122782588\n",
            "Iteration:      5,   Func. Count:    121,   Neg. LLF: -35.087368019865316\n",
            "Iteration:      6,   Func. Count:    145,   Neg. LLF: -47.76577507341236\n",
            "Iteration:      7,   Func. Count:    169,   Neg. LLF: -51.985963672387086\n",
            "Iteration:      8,   Func. Count:    193,   Neg. LLF: -53.070721242037955\n",
            "Iteration:      9,   Func. Count:    216,   Neg. LLF: -52.61935854098327\n",
            "Iteration:     10,   Func. Count:    240,   Neg. LLF: -36.233774014778206\n",
            "Iteration:     11,   Func. Count:    264,   Neg. LLF: -51.90627049155283\n",
            "Iteration:     12,   Func. Count:    288,   Neg. LLF: -53.80755235133931\n",
            "Iteration:     13,   Func. Count:    311,   Neg. LLF: -53.847258121656964\n",
            "Iteration:     14,   Func. Count:    334,   Neg. LLF: -53.88725910855352\n",
            "Iteration:     15,   Func. Count:    357,   Neg. LLF: -53.91651052430421\n",
            "Iteration:     16,   Func. Count:    380,   Neg. LLF: -53.9329101857403\n",
            "Iteration:     17,   Func. Count:    403,   Neg. LLF: -53.93316448337859\n",
            "Iteration:     18,   Func. Count:    427,   Neg. LLF: -53.94038836388711\n",
            "Iteration:     19,   Func. Count:    450,   Neg. LLF: -53.94093665879113\n",
            "Iteration:     20,   Func. Count:    473,   Neg. LLF: -53.94103161873329\n",
            "Iteration:     21,   Func. Count:    496,   Neg. LLF: -53.941037830589984\n",
            "Iteration:     22,   Func. Count:    518,   Neg. LLF: -53.94103772853357\n",
            "Optimization terminated successfully    (Exit mode 0)\n",
            "            Current function value: -53.941037830589984\n",
            "            Iterations: 22\n",
            "            Function evaluations: 518\n",
            "            Gradient evaluations: 22\n"
          ]
        }
      ]
    },
    {
      "cell_type": "code",
      "source": [
        "# Declare Variables\n",
        "rf = ((1 + ANNUAL_US_TREASURY_BILL_RATE) - 1) / 12\n",
        "sigma_t = results.conditional_volatility.mean()\n",
        "std = np.std(data)\n",
        "return_avg = np.mean(data)"
      ],
      "metadata": {
        "id": "4vEcNq1OYgoj"
      },
      "execution_count": 26,
      "outputs": []
    },
    {
      "cell_type": "code",
      "source": [
        "sigma_t, std"
      ],
      "metadata": {
        "colab": {
          "base_uri": "https://localhost:8080/"
        },
        "id": "_mZE1YEyYhTG",
        "outputId": "c79a815a-aa4e-41b7-9f69-40939918fecb"
      },
      "execution_count": 31,
      "outputs": [
        {
          "output_type": "execute_result",
          "data": {
            "text/plain": [
              "(0.10018760199545983, 0.10276952012697559)"
            ]
          },
          "metadata": {},
          "execution_count": 31
        }
      ]
    },
    {
      "cell_type": "code",
      "source": [
        "time_varying_sharpe_ratio = (return_avg - rf) / sigma_t\n",
        "sharpe_ratio = (return_avg - rf) / std\n",
        "time_varying_sharpe_ratio, sharpe_ratio"
      ],
      "metadata": {
        "colab": {
          "base_uri": "https://localhost:8080/"
        },
        "id": "AC6QW4ZtZDxT",
        "outputId": "44a87ccf-557f-49ba-b1b6-8ae4db2e9981"
      },
      "execution_count": 30,
      "outputs": [
        {
          "output_type": "execute_result",
          "data": {
            "text/plain": [
              "(0.5504491015024359, 0.5366199572786452)"
            ]
          },
          "metadata": {},
          "execution_count": 30
        }
      ]
    }
  ]
}