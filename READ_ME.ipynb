{
  "nbformat": 4,
  "nbformat_minor": 0,
  "metadata": {
    "colab": {
      "provenance": []
    },
    "kernelspec": {
      "name": "python3",
      "display_name": "Python 3"
    },
    "language_info": {
      "name": "python"
    }
  },
  "cells": [
    {
      "cell_type": "markdown",
      "source": [
        "# Time-Varying Sharpe Ratio Based on Conditional Volatility from GARCH Model\n",
        "\n",
        "To establish a clear foundation for our analysis, we will adopt the following assumptions:\n",
        "\n",
        "1. **Standard Deviation as a Measure of Risk**: The standard deviation of returns will be used as the primary metric to quantify risk.\n",
        "\n",
        "2. **Non-IID Stock Data**: Stock market data will be treated as non-independent and non-identically distributed (non-IID), acknowledging the inherent dependencies and varying distributions over time.\n",
        "\n",
        "These assumptions align with real-world financial market dynamics and provide a robust framework for subsequent modeling and analysis.\n",
        "\n",
        "## Sharpe Ratio\n",
        "The Sharpe Ratio is widely used to assess the risk-adjusted return of investments, including options, by calculating **return over risk**. However, this method overlooks the **non-IID** nature of stock data, which is crucial in real-world financial markets. Stock prices exhibit **autocorrelation**, where past returns influence future returns, leading to phenomena like **momentum** or **mean reversion**. Ignoring this correlation can distort risk and return calculations, ultimately providing a misleading assessment of an asset’s true performance. While the Sharpe Ratio is useful for general purposes, it is important to incorporate models that account for **time-varying volatility** and the non-IID behavior of stock data to more accurately evaluate risk-adjusted returns.\n",
        "\n",
        "## Conditional Volatility\n",
        "Conditional volatility refers to the time-varying risk of asset returns, adjusting for changing market conditions over time. Unlike standard deviation, which assumes **constant volatility**, conditional volatility reflects the influence of past returns and market shocks on future risk. In the context of the Sharpe ratio, conditional volatility is used to replace constant volatility in the denominator, offering a more accurate measure of risk that adapts to **fluctuating market environments**. The formula for conditional volatility in a GARCH model incorporates past return shocks and prior volatility to estimate future risk. Using conditional volatility in the Sharpe ratio calculation results in a more **dynamic and precise** evaluation of an asset’s risk-adjusted return.\n",
        "\n",
        "![sharpe_ratio2.jpg](data:image/jpeg;base64,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)\n",
        "\n",
        "The only modification to the original formula lies in the denominator, where the standard deviation ($\\sigma$) is replaced by conditional volatility $\\sqrt{\\sigma_t^2}$.\n",
        "\n",
        "![conditional_var.jpg](data:image/jpeg;base64,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)\n",
        "\n",
        "In a GARCH(p, q) model (Generalized Autoregressive Conditional Heteroskedasticity), the conditional volatility, often denoted as\n",
        "$\\sigma_t^2$, is modeled as a function of past squared residuals (ARCH terms) and past conditional variances (GARCH terms).\n",
        "\n",
        "## Downside\n",
        "Keep in mind that the GARCH model can suffer from overfitting when high values of **p** and **q** are selected. To mitigate this risk, it's crucial to perform **hyperparameter tuning** and use techniques such as **cross-validation** to identify the optimal model parameters. This will ensure better generalization and prevent the model from fitting noise in the data.\n",
        "\n",
        "## Conclusion\n",
        "The time-varying volatility can be modeled using a GARCH(p, q) framework to capture the non-IID nature of asset returns, with conditional volatility ($\\sigma_t$) serving as a dynamic risk measure. This allows for a more accurate calculation of the Sharpe ratio, incorporating time-varying risk in the denominator. To mitigate overfitting, it is essential to employ cross-validation and a rolling window approach for optimal hyperparameter selection."
      ],
      "metadata": {
        "id": "8pmoF1uBXqYf"
      }
    },
    {
      "cell_type": "markdown",
      "source": [
        "## Here is a simple python tutorial I have provided to showcase the use of GARCH model for time-varying sharpe ratio calculation"
      ],
      "metadata": {
        "id": "8WH6gSu1Xvah"
      }
    },
    {
      "cell_type": "code",
      "execution_count": 4,
      "metadata": {
        "id": "GHVGWY_gXh6r"
      },
      "outputs": [],
      "source": [
        "import numpy as np\n",
        "from arch import arch_model\n",
        "import yfinance as yf"
      ]
    },
    {
      "cell_type": "code",
      "source": [
        "# Constants\n",
        "START_DATE = '2010-01-01'\n",
        "END_DATE = '2025-01-01'\n",
        "INTERVAL = '3mo'\n",
        "TICKER = 'MA'\n",
        "ANNUAL_US_TREASURY_BILL_RATE = 0.05\n",
        "P = 10\n",
        "Q = 10"
      ],
      "metadata": {
        "id": "4MMm7UlVX24_"
      },
      "execution_count": 5,
      "outputs": []
    },
    {
      "cell_type": "code",
      "source": [
        "data = yf.download(TICKER, start=START_DATE, end=END_DATE, interval=INTERVAL)\n",
        "data = data['Close'].pct_change()\n",
        "data = data.dropna()\n",
        "data = list(data[TICKER])"
      ],
      "metadata": {
        "colab": {
          "base_uri": "https://localhost:8080/"
        },
        "id": "5uY7KVU4X7Gz",
        "outputId": "37c3011c-38bb-4918-9c37-e493bf3445db"
      },
      "execution_count": 21,
      "outputs": [
        {
          "output_type": "stream",
          "name": "stderr",
          "text": [
            "\r[*********************100%***********************]  1 of 1 completed\n"
          ]
        }
      ]
    },
    {
      "cell_type": "code",
      "source": [
        "data[:5]"
      ],
      "metadata": {
        "colab": {
          "base_uri": "https://localhost:8080/"
        },
        "id": "pv_RuKUKaIsi",
        "outputId": "e9132b9d-b3b9-49ca-f975-fe443e5a7e7a"
      },
      "execution_count": 35,
      "outputs": [
        {
          "output_type": "execute_result",
          "data": {
            "text/plain": [
              "[-0.21398817297087025,\n",
              " 0.12328921450976171,\n",
              " 0.0012439592181781034,\n",
              " 0.12395309605411531,\n",
              " 0.19790441983425033]"
            ]
          },
          "metadata": {},
          "execution_count": 35
        }
      ]
    },
    {
      "cell_type": "code",
      "source": [
        "model = arch_model(data, vol='Garch', p=P, q=Q)\n",
        "results = model.fit()"
      ],
      "metadata": {
        "colab": {
          "base_uri": "https://localhost:8080/"
        },
        "id": "EGpdr4P3YHp0",
        "outputId": "fdb8fca7-d677-4c59-f377-a83a6b12f879"
      },
      "execution_count": 22,
      "outputs": [
        {
          "output_type": "stream",
          "name": "stderr",
          "text": [
            "/usr/local/lib/python3.11/dist-packages/arch/univariate/base.py:309: DataScaleWarning: y is poorly scaled, which may affect convergence of the optimizer when\n",
            "estimating the model parameters. The scale of y is 0.01056. Parameter\n",
            "estimation work better when this value is between 1 and 1000. The recommended\n",
            "rescaling is 10 * y.\n",
            "\n",
            "This warning can be disabled by either rescaling y before initializing the\n",
            "model or by setting rescale=False.\n",
            "\n",
            "  warnings.warn(\n"
          ]
        },
        {
          "output_type": "stream",
          "name": "stdout",
          "text": [
            "Iteration:      1,   Func. Count:     24,   Neg. LLF: 49.02888904408984\n",
            "Iteration:      2,   Func. Count:     49,   Neg. LLF: 2814.612548838516\n",
            "Iteration:      3,   Func. Count:     73,   Neg. LLF: -35.72278416379367\n",
            "Iteration:      4,   Func. Count:     97,   Neg. LLF: -38.9431122782588\n",
            "Iteration:      5,   Func. Count:    121,   Neg. LLF: -35.087368019865316\n",
            "Iteration:      6,   Func. Count:    145,   Neg. LLF: -47.76577507341236\n",
            "Iteration:      7,   Func. Count:    169,   Neg. LLF: -51.985963672387086\n",
            "Iteration:      8,   Func. Count:    193,   Neg. LLF: -53.070721242037955\n",
            "Iteration:      9,   Func. Count:    216,   Neg. LLF: -52.61935854098327\n",
            "Iteration:     10,   Func. Count:    240,   Neg. LLF: -36.233774014778206\n",
            "Iteration:     11,   Func. Count:    264,   Neg. LLF: -51.90627049155283\n",
            "Iteration:     12,   Func. Count:    288,   Neg. LLF: -53.80755235133931\n",
            "Iteration:     13,   Func. Count:    311,   Neg. LLF: -53.847258121656964\n",
            "Iteration:     14,   Func. Count:    334,   Neg. LLF: -53.88725910855352\n",
            "Iteration:     15,   Func. Count:    357,   Neg. LLF: -53.91651052430421\n",
            "Iteration:     16,   Func. Count:    380,   Neg. LLF: -53.9329101857403\n",
            "Iteration:     17,   Func. Count:    403,   Neg. LLF: -53.93316448337859\n",
            "Iteration:     18,   Func. Count:    427,   Neg. LLF: -53.94038836388711\n",
            "Iteration:     19,   Func. Count:    450,   Neg. LLF: -53.94093665879113\n",
            "Iteration:     20,   Func. Count:    473,   Neg. LLF: -53.94103161873329\n",
            "Iteration:     21,   Func. Count:    496,   Neg. LLF: -53.941037830589984\n",
            "Iteration:     22,   Func. Count:    518,   Neg. LLF: -53.94103772853357\n",
            "Optimization terminated successfully    (Exit mode 0)\n",
            "            Current function value: -53.941037830589984\n",
            "            Iterations: 22\n",
            "            Function evaluations: 518\n",
            "            Gradient evaluations: 22\n"
          ]
        }
      ]
    },
    {
      "cell_type": "code",
      "source": [
        "# Declare Variables\n",
        "rf = ((1 + ANNUAL_US_TREASURY_BILL_RATE) - 1) / 12\n",
        "sigma_t = results.conditional_volatility.mean()\n",
        "std = np.std(data)\n",
        "return_avg = np.mean(data)"
      ],
      "metadata": {
        "id": "4vEcNq1OYgoj"
      },
      "execution_count": 26,
      "outputs": []
    },
    {
      "cell_type": "code",
      "source": [
        "sigma_t, std"
      ],
      "metadata": {
        "colab": {
          "base_uri": "https://localhost:8080/"
        },
        "id": "_mZE1YEyYhTG",
        "outputId": "c79a815a-aa4e-41b7-9f69-40939918fecb"
      },
      "execution_count": 31,
      "outputs": [
        {
          "output_type": "execute_result",
          "data": {
            "text/plain": [
              "(0.10018760199545983, 0.10276952012697559)"
            ]
          },
          "metadata": {},
          "execution_count": 31
        }
      ]
    },
    {
      "cell_type": "code",
      "source": [
        "time_varying_sharpe_ratio = (return_avg - rf) / sigma_t\n",
        "sharpe_ratio = (return_avg - rf) / std\n",
        "time_varying_sharpe_ratio, sharpe_ratio"
      ],
      "metadata": {
        "colab": {
          "base_uri": "https://localhost:8080/"
        },
        "id": "AC6QW4ZtZDxT",
        "outputId": "44a87ccf-557f-49ba-b1b6-8ae4db2e9981"
      },
      "execution_count": 30,
      "outputs": [
        {
          "output_type": "execute_result",
          "data": {
            "text/plain": [
              "(0.5504491015024359, 0.5366199572786452)"
            ]
          },
          "metadata": {},
          "execution_count": 30
        }
      ]
    }
  ]
}